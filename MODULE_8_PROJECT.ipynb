{
  "nbformat": 4,
  "nbformat_minor": 0,
  "metadata": {
    "colab": {
      "provenance": [],
      "authorship_tag": "ABX9TyPVzxFuKeAmf+6q+2ct/y0N",
      "include_colab_link": true
    },
    "kernelspec": {
      "name": "python3",
      "display_name": "Python 3"
    },
    "language_info": {
      "name": "python"
    }
  },
  "cells": [
    {
      "cell_type": "markdown",
      "metadata": {
        "id": "view-in-github",
        "colab_type": "text"
      },
      "source": [
        "<a href=\"https://colab.research.google.com/github/Arshiya109/python1/blob/main/MODULE_8_PROJECT.ipynb\" target=\"_parent\"><img src=\"https://colab.research.google.com/assets/colab-badge.svg\" alt=\"Open In Colab\"/></a>"
      ]
    },
    {
      "cell_type": "markdown",
      "source": [
        "### **FMML-2024 Module 8 Project**"
      ],
      "metadata": {
        "id": "mYF256vjmRw9"
      }
    },
    {
      "cell_type": "code",
      "source": [
        "from os import stat\n",
        "import typing\n",
        "\n",
        "import numpy as np\n",
        "\n",
        "import typing\n",
        "\n",
        "\n",
        "class BagOfWords:\n",
        "    \"\"\"\n",
        "    A type of encoder, makes\n",
        "    \"\"\"\n",
        "\n",
        "    def __init__(self, data: typing.Iterable) -> None:\n",
        "        \"\"\"\n",
        "        Generate the bag of words\n",
        "        :param data: an array of words, or an iterable containing arrays of words\n",
        "        \"\"\"\n",
        "        data = np.array(self.__linearize_array(data))\n",
        "        self.index_to_words = np.unique(data)\n",
        "        self.words_to_index = {w: i for i, w in enumerate(self.index_to_words)}\n",
        "\n",
        "    @classmethod\n",
        "    def __linearize_array(cls, text):\n",
        "        x = []\n",
        "        for item in text:\n",
        "            if isinstance(item, str):\n",
        "                x.append(item)\n",
        "            else:\n",
        "                x.extend(cls.__linearize_array(item))\n",
        "        return x\n",
        "\n",
        "    def __call__(self, text: typing.Iterable[str]) -> np.array:\n",
        "        return self.get_counts(text)\n",
        "\n",
        "    def __len__(self) -> int:\n",
        "        return len(self.index_to_words)\n",
        "\n",
        "    def encode_data(\n",
        "        self: \"BagOfWords\",\n",
        "        text: typing.Union[typing.Iterable[str], typing.Iterable[typing.Iterable[str]]],\n",
        "    ) -> np.array:\n",
        "        \"\"\"\n",
        "        Compute the encodings of words in a new input tokenized string\n",
        "        \"\"\"\n",
        "        x = []\n",
        "        for item in text:\n",
        "            if isinstance(item, str):\n",
        "                if item in self.words_to_index:\n",
        "                    x.append(self.words_to_index[item])\n",
        "            else:\n",
        "                x.append(self.encode_data(item))\n",
        "        return x\n",
        "\n",
        "    def decode_data(self: \"BagOfWords\", encoded_text: typing.Iterable[int]):\n",
        "        if isinstance(encoded_text, int) or isinstance(encoded_text, np.int64):\n",
        "            return self.index_to_words[encoded_text]\n",
        "        else:\n",
        "            return list(map(self.decode_data, encoded_text))\n",
        "\n",
        "    def get_counts(\n",
        "        self: \"BagOfWords\",\n",
        "        text: typing.Union[typing.Iterable[str], typing.Iterable[typing.Iterable[str]]],\n",
        "    ):\n",
        "        \"\"\"\n",
        "        Computes the counts of words in a new input tokenized string\n",
        "        \"\"\"\n",
        "        if len(text) == 0 or isinstance(text[0], str):\n",
        "            x = np.zeros(shape=len(self))\n",
        "            for word in text:\n",
        "                if word in self.words_to_index:\n",
        "                    x[self.words_to_index[word]] += 1\n",
        "            return x\n",
        "        else:\n",
        "            return np.stack([self.get_counts(item) for item in text], axis=0)\n",
        "\n",
        "import numpy as np\n",
        "\n",
        "\n",
        "class LabelEncoder:\n",
        "    \"\"\"\n",
        "    Label encode a series of labels\n",
        "    \"\"\"\n",
        "\n",
        "    def __init__(self, data) -> None:\n",
        "        self.__training_data = data\n",
        "        self.index_to_token = list(set(data))\n",
        "        self.token_to_index = {\n",
        "            token: index for index, token in enumerate(self.index_to_token)\n",
        "        }\n",
        "\n",
        "    def __len__(self):\n",
        "        return len(self.token_to_index)\n",
        "\n",
        "    @property\n",
        "    def encoded_data(self):\n",
        "        return np.array([self.token_to_index[token] for token in self.__training_data])\n",
        "\n",
        "    def encode(self, data):\n",
        "        return np.array([self.token_to_index[token] for token in data])\n",
        "\n",
        "    def decode(self, data):\n",
        "        if isinstance(data, int) or isinstance(data, np.int64):\n",
        "            return self.index_to_token[data]\n",
        "        else:\n",
        "            return np.array([self.index_to_token[index] for index in data])\n",
        "\n"
      ],
      "metadata": {
        "id": "cJhgDnFrjFhp"
      },
      "execution_count": 15,
      "outputs": []
    },
    {
      "cell_type": "code",
      "source": [
        "!pip install autohire\n",
        "import autohire\n",
        "import numpy as np\n",
        "\n",
        "from autohire.utils import parse_pdf, parse_resume_df\n",
        "from autohire.bow import BagOfWords\n",
        "from autohire.encoder import LabelEncoder\n",
        "from autohire.model import BayesianMulticlassModel\n",
        "from autohire.explainer import BayesianModelExplainer\n",
        "\n",
        "if __name__ == \"__main__\":\n",
        "    x_train, y_train = parse_resume_df()\n",
        "    bag_of_words = BagOfWords(x_train)\n",
        "    label_encoder = LabelEncoder(y_train)\n",
        "\n",
        "    x_train = bag_of_words.get_counts(x_train)\n",
        "    y_train = label_encoder.encode(y_train)\n",
        "    model = BayesianMulticlassModel(len(label_encoder), len(bag_of_words))\n",
        "    model.fit(x_train=x_train, y_train=y_train)\n",
        "\n",
        "    x_test_input = parse_pdf(\"data/resumes/computers_2.pdf\")\n",
        "    x_test = bag_of_words.get_counts(x_test_input)\n",
        "    result = model.predict(x_test)\n",
        "    result = label_encoder.decode(result)\n",
        "\n",
        "    for job in result[:5]:\n",
        "        print(job)\n",
        "\n",
        "    explainable_model = BayesianModelExplainer(label_encoder, bag_of_words)\n",
        "    explainable_model.fit(x_train=x_train, y_train=y_train)\n",
        "\n",
        "    print(\n",
        "        \"\"\"\n",
        "ANALYSIS OF TRAINED PRIOR\n",
        "-------------------------\"\"\"\n",
        "    )\n",
        "    explainable_model.explain()\n",
        "\n",
        "    print(\n",
        "        \"\"\"\n",
        "ANALYSIS OF TRAINED EVIDENCE\n",
        "----------------------------\"\"\"\n",
        "    )\n",
        "    explainable_model.explain(x_test_input)"
      ],
      "metadata": {
        "colab": {
          "base_uri": "https://localhost:8080/",
          "height": 418
        },
        "id": "OFHXhx-lh9E-",
        "outputId": "5114f769-efda-4a51-dc5e-44789bfb8dbf"
      },
      "execution_count": 11,
      "outputs": [
        {
          "output_type": "stream",
          "name": "stdout",
          "text": [
            "\u001b[31mERROR: Could not find a version that satisfies the requirement autohire (from versions: none)\u001b[0m\u001b[31m\n",
            "\u001b[0m\u001b[31mERROR: No matching distribution found for autohire\u001b[0m\u001b[31m\n",
            "\u001b[0m"
          ]
        },
        {
          "output_type": "error",
          "ename": "ModuleNotFoundError",
          "evalue": "No module named 'autohire'",
          "traceback": [
            "\u001b[0;31m---------------------------------------------------------------------------\u001b[0m",
            "\u001b[0;31mModuleNotFoundError\u001b[0m                       Traceback (most recent call last)",
            "\u001b[0;32m<ipython-input-11-9106dd678778>\u001b[0m in \u001b[0;36m<cell line: 2>\u001b[0;34m()\u001b[0m\n\u001b[1;32m      1\u001b[0m \u001b[0mget_ipython\u001b[0m\u001b[0;34m(\u001b[0m\u001b[0;34m)\u001b[0m\u001b[0;34m.\u001b[0m\u001b[0msystem\u001b[0m\u001b[0;34m(\u001b[0m\u001b[0;34m'pip install autohire'\u001b[0m\u001b[0;34m)\u001b[0m\u001b[0;34m\u001b[0m\u001b[0;34m\u001b[0m\u001b[0m\n\u001b[0;32m----> 2\u001b[0;31m \u001b[0;32mimport\u001b[0m \u001b[0mautohire\u001b[0m\u001b[0;34m\u001b[0m\u001b[0;34m\u001b[0m\u001b[0m\n\u001b[0m\u001b[1;32m      3\u001b[0m \u001b[0;32mimport\u001b[0m \u001b[0mnumpy\u001b[0m \u001b[0;32mas\u001b[0m \u001b[0mnp\u001b[0m\u001b[0;34m\u001b[0m\u001b[0;34m\u001b[0m\u001b[0m\n\u001b[1;32m      4\u001b[0m \u001b[0;34m\u001b[0m\u001b[0m\n\u001b[1;32m      5\u001b[0m \u001b[0;32mfrom\u001b[0m \u001b[0mautohire\u001b[0m\u001b[0;34m.\u001b[0m\u001b[0mutils\u001b[0m \u001b[0;32mimport\u001b[0m \u001b[0mparse_pdf\u001b[0m\u001b[0;34m,\u001b[0m \u001b[0mparse_resume_df\u001b[0m\u001b[0;34m\u001b[0m\u001b[0;34m\u001b[0m\u001b[0m\n",
            "\u001b[0;31mModuleNotFoundError\u001b[0m: No module named 'autohire'",
            "",
            "\u001b[0;31m---------------------------------------------------------------------------\u001b[0;32m\nNOTE: If your import is failing due to a missing package, you can\nmanually install dependencies using either !pip or !apt.\n\nTo view examples of installing some common dependencies, click the\n\"Open Examples\" button below.\n\u001b[0;31m---------------------------------------------------------------------------\u001b[0m\n"
          ],
          "errorDetails": {
            "actions": [
              {
                "action": "open_url",
                "actionText": "Open Examples",
                "url": "/notebooks/snippets/importing_libraries.ipynb"
              }
            ]
          }
        }
      ]
    },
    {
      "cell_type": "code",
      "source": [
        "import typing\n",
        "import numpy as np\n",
        "\n",
        "\n",
        "class BayesianMulticlassModel:\n",
        "    \"\"\"\n",
        "    A multi-class bayesian classfier from encoded text tokens\n",
        "    \"\"\"\n",
        "\n",
        "    def __init__(self, num_classes, num_tokens) -> None:\n",
        "        self.counts = np.zeros(shape=(num_classes, num_tokens))\n",
        "\n",
        "    def fit(self, x_train: typing.Iterable[np.ndarray], y_train: typing.Iterable[int]):\n",
        "        for x, y in zip(x_train, y_train):\n",
        "         self.counts[y] += x\n",
        "\n",
        "    def predict(self, counts_vector):\n",
        "        class_frequencies = np.sum(self.counts, axis=1)\n",
        "        word_frequencies = np.sum(self.counts, axis=0)\n",
        "\n",
        "        prior = class_frequencies / np.sum(class_frequencies)  # p(label)\n",
        "        likelihood = self.counts / np.expand_dims(\n",
        "            class_frequencies, axis=1\n",
        "        )  # p(word|label)\n",
        "        evidence = word_frequencies / np.sum(word_frequencies)  # p(word)\n",
        "\n",
        "        likelihood = np.multiply(likelihood, counts_vector)\n",
        "        prior = np.expand_dims(prior, axis=1)\n",
        "\n",
        "        posterior_marginal = prior * likelihood / evidence + 0.00001\n",
        "        posterior_joint = np.sum(np.log(posterior_marginal), axis=1)\n",
        "        return np.flip(np.argsort(posterior_joint))\n",
        "\n",
        "\n"
      ],
      "metadata": {
        "id": "iqLDVbKwjhL0"
      },
      "execution_count": 21,
      "outputs": []
    },
    {
      "cell_type": "code",
      "source": [
        "import numpy as np\n",
        "\n",
        "from autohire.model import BayesianMulticlassModel\n",
        "from autohire.bow import BagOfWords\n",
        "from autohire.encoder import LabelEncoder\n",
        "\n",
        "class BayesianModelExplainer(BayesianMulticlassModel):\n",
        "    \"\"\"\n",
        "    Explainer of the decision made by the base model\n",
        "    \"\"\"\n",
        "\n",
        "    def __init__(self, label_encoder: LabelEncoder, bag_of_words: BagOfWords) -> None:\n",
        "        super().__init__(len(label_encoder), len(bag_of_words))\n",
        "        self.bag_of_words = bag_of_words\n",
        "        self.label_encoder = label_encoder\n",
        "\n",
        "    def explain(self, text=None, label_filter=None):\n",
        "        \"\"\"\n",
        "        Visualize what are the prior probabilities of classes and which words\n",
        "        add the the likelihood of each class.\n",
        "        \"\"\"\n",
        "        class_frequencies = np.sum(self.counts, axis=1)\n",
        "        word_frequencies = np.sum(self.counts, axis=0)\n",
        "\n",
        "        prior = class_frequencies / np.sum(class_frequencies)  # p(label)\n",
        "        likelihood = self.counts / np.expand_dims(\n",
        "            class_frequencies, axis=1\n",
        "        )  # p(word|label)\n",
        "        evidence = word_frequencies / np.sum(word_frequencies)  # p(word)\n",
        "\n",
        "        if text is not None:\n",
        "            counts_vector = self.bag_of_words.get_counts(text)\n",
        "            likelihood = np.multiply(likelihood, counts_vector)\n",
        "\n",
        "        prior_ordering = np.flip(np.argsort(prior))\n",
        "        for item in prior_ordering:\n",
        "            likelihood = likelihood / (evidence + 0.00001)\n",
        "            label = self.label_encoder.decode(item)\n",
        "            word_ids = np.flip(np.argsort(likelihood[item]))\n",
        "            word_ids = word_ids[:10]\n",
        "            if label_filter is None or label in label_filter:\n",
        "                print(f\"{label}: {' '.join(self.bag_of_words.decode_data(word_ids))}\")"
      ],
      "metadata": {
        "colab": {
          "base_uri": "https://localhost:8080/",
          "height": 383
        },
        "id": "d3RnkxSijdLy",
        "outputId": "c2f40898-a432-4554-f048-d5f4e0b3a2fc"
      },
      "execution_count": 19,
      "outputs": [
        {
          "output_type": "error",
          "ename": "ModuleNotFoundError",
          "evalue": "No module named 'autohire'",
          "traceback": [
            "\u001b[0;31m---------------------------------------------------------------------------\u001b[0m",
            "\u001b[0;31mModuleNotFoundError\u001b[0m                       Traceback (most recent call last)",
            "\u001b[0;32m<ipython-input-19-abda989ef2c6>\u001b[0m in \u001b[0;36m<cell line: 3>\u001b[0;34m()\u001b[0m\n\u001b[1;32m      1\u001b[0m \u001b[0;32mimport\u001b[0m \u001b[0mnumpy\u001b[0m \u001b[0;32mas\u001b[0m \u001b[0mnp\u001b[0m\u001b[0;34m\u001b[0m\u001b[0;34m\u001b[0m\u001b[0m\n\u001b[1;32m      2\u001b[0m \u001b[0;34m\u001b[0m\u001b[0m\n\u001b[0;32m----> 3\u001b[0;31m \u001b[0;32mfrom\u001b[0m \u001b[0mautohire\u001b[0m\u001b[0;34m.\u001b[0m\u001b[0mmodel\u001b[0m \u001b[0;32mimport\u001b[0m \u001b[0mBayesianMulticlassModel\u001b[0m\u001b[0;34m\u001b[0m\u001b[0;34m\u001b[0m\u001b[0m\n\u001b[0m\u001b[1;32m      4\u001b[0m \u001b[0;32mfrom\u001b[0m \u001b[0mautohire\u001b[0m\u001b[0;34m.\u001b[0m\u001b[0mbow\u001b[0m \u001b[0;32mimport\u001b[0m \u001b[0mBagOfWords\u001b[0m\u001b[0;34m\u001b[0m\u001b[0;34m\u001b[0m\u001b[0m\n\u001b[1;32m      5\u001b[0m \u001b[0;32mfrom\u001b[0m \u001b[0mautohire\u001b[0m\u001b[0;34m.\u001b[0m\u001b[0mencoder\u001b[0m \u001b[0;32mimport\u001b[0m \u001b[0mLabelEncoder\u001b[0m\u001b[0;34m\u001b[0m\u001b[0;34m\u001b[0m\u001b[0m\n",
            "\u001b[0;31mModuleNotFoundError\u001b[0m: No module named 'autohire'",
            "",
            "\u001b[0;31m---------------------------------------------------------------------------\u001b[0;32m\nNOTE: If your import is failing due to a missing package, you can\nmanually install dependencies using either !pip or !apt.\n\nTo view examples of installing some common dependencies, click the\n\"Open Examples\" button below.\n\u001b[0;31m---------------------------------------------------------------------------\u001b[0m\n"
          ],
          "errorDetails": {
            "actions": [
              {
                "action": "open_url",
                "actionText": "Open Examples",
                "url": "/notebooks/snippets/importing_libraries.ipynb"
              }
            ]
          }
        }
      ]
    },
    {
      "cell_type": "code",
      "source": [
        "import re\n",
        "from collections import defaultdict\n",
        "\n",
        "import numpy as np\n",
        "import pandas as pd\n",
        "import pdfreader\n",
        "\n",
        "from .hyperparams import *\n",
        "\n",
        "\n",
        "def clean_text(text: str):\n",
        "    \"\"\"\n",
        "    Given text it removes all the non-character words, small words,\n",
        "    converts everything to small letters, tokenizes and returns as a list.\n",
        "    :param text: The text to be cleaned\n",
        "    \"\"\"\n",
        "    text = text.lower()\n",
        "    text = re.sub(\"[^a-z]\", \" \", text)\n",
        "    data = text.split()\n",
        "    data = list(filter(lambda x: len(x) >= WORD_LENGTH_THRESHOLD, data))\n",
        "    return data\n",
        "\n",
        "\n",
        "def parse_pdf(filename: str):\n",
        "    \"\"\"\n",
        "    Read text from a PDF file.\n",
        "    Clean the text, tokenize it, and return as a list of tokens.\n",
        "    :param :\n",
        "    \"\"\"\n",
        "    fd = open(filename, \"rb\")\n",
        "    document = pdfreader.PDFDocument(fd)\n",
        "    viewer = pdfreader.SimplePDFViewer(fd)\n",
        "    output_strings = []\n",
        "    for i in range(len(list(document.pages()))):\n",
        "        viewer.navigate(1)\n",
        "        viewer.render()\n",
        "        output_strings.extend(viewer.canvas.strings)\n",
        "    file_contents = \" \".join(output_strings)\n",
        "    return clean_text(file_contents)\n",
        "\n",
        "\n",
        "def parse_resume_df():\n",
        "    resume_df = pd.read_csv(\"data/resume-dataset.csv\")\n",
        "    resume_df[\"Keywords\"] = resume_df[\"Resume\"].apply(clean_text)\n",
        "    return resume_df[\"Keywords\"].values, resume_df[\"Category\"].values"
      ],
      "metadata": {
        "colab": {
          "base_uri": "https://localhost:8080/",
          "height": 383
        },
        "id": "6pVbZucnkKTZ",
        "outputId": "dae226e4-3f72-4933-b1b1-e4859cd16bc0"
      },
      "execution_count": 24,
      "outputs": [
        {
          "output_type": "error",
          "ename": "ModuleNotFoundError",
          "evalue": "No module named 'pdfreader'",
          "traceback": [
            "\u001b[0;31m---------------------------------------------------------------------------\u001b[0m",
            "\u001b[0;31mModuleNotFoundError\u001b[0m                       Traceback (most recent call last)",
            "\u001b[0;32m<ipython-input-24-f1023cadd197>\u001b[0m in \u001b[0;36m<cell line: 6>\u001b[0;34m()\u001b[0m\n\u001b[1;32m      4\u001b[0m \u001b[0;32mimport\u001b[0m \u001b[0mnumpy\u001b[0m \u001b[0;32mas\u001b[0m \u001b[0mnp\u001b[0m\u001b[0;34m\u001b[0m\u001b[0;34m\u001b[0m\u001b[0m\n\u001b[1;32m      5\u001b[0m \u001b[0;32mimport\u001b[0m \u001b[0mpandas\u001b[0m \u001b[0;32mas\u001b[0m \u001b[0mpd\u001b[0m\u001b[0;34m\u001b[0m\u001b[0;34m\u001b[0m\u001b[0m\n\u001b[0;32m----> 6\u001b[0;31m \u001b[0;32mimport\u001b[0m \u001b[0mpdfreader\u001b[0m\u001b[0;34m\u001b[0m\u001b[0;34m\u001b[0m\u001b[0m\n\u001b[0m\u001b[1;32m      7\u001b[0m \u001b[0;34m\u001b[0m\u001b[0m\n\u001b[1;32m      8\u001b[0m \u001b[0;32mfrom\u001b[0m \u001b[0;34m.\u001b[0m\u001b[0mhyperparams\u001b[0m \u001b[0;32mimport\u001b[0m \u001b[0;34m*\u001b[0m\u001b[0;34m\u001b[0m\u001b[0;34m\u001b[0m\u001b[0m\n",
            "\u001b[0;31mModuleNotFoundError\u001b[0m: No module named 'pdfreader'",
            "",
            "\u001b[0;31m---------------------------------------------------------------------------\u001b[0;32m\nNOTE: If your import is failing due to a missing package, you can\nmanually install dependencies using either !pip or !apt.\n\nTo view examples of installing some common dependencies, click the\n\"Open Examples\" button below.\n\u001b[0;31m---------------------------------------------------------------------------\u001b[0m\n"
          ],
          "errorDetails": {
            "actions": [
              {
                "action": "open_url",
                "actionText": "Open Examples",
                "url": "/notebooks/snippets/importing_libraries.ipynb"
              }
            ]
          }
        }
      ]
    }
  ]
}