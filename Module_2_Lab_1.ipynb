{
  "nbformat": 4,
  "nbformat_minor": 0,
  "metadata": {
    "colab": {
      "provenance": [],
      "authorship_tag": "ABX9TyOb6gB0eNzwT8K5l2vD0Pik",
      "include_colab_link": true
    },
    "kernelspec": {
      "name": "python3",
      "display_name": "Python 3"
    },
    "language_info": {
      "name": "python"
    }
  },
  "cells": [
    {
      "cell_type": "markdown",
      "metadata": {
        "id": "view-in-github",
        "colab_type": "text"
      },
      "source": [
        "<a href=\"https://colab.research.google.com/github/Arshiya109/python1/blob/main/Module_2_Lab_1.ipynb\" target=\"_parent\"><img src=\"https://colab.research.google.com/assets/colab-badge.svg\" alt=\"Open In Colab\"/></a>"
      ]
    },
    {
      "cell_type": "markdown",
      "source": [
        "1) Think about the maximum/minimum values for each body-type, which body-type is the \"costliest\" ?\n",
        "\n",
        "ANS:  \n",
        "\n",
        "*The \"cost\" depends on how much time, money, and effort you need to put into maintaining your body to keep it looking and feeling the way you want.Body type costliness can vary greatly depending on factors such as material, design complexity, and brand. Generally, for consumer vehicles:\n",
        "\n",
        "- Sports cars and luxury cars often have the highest maximum cost due to their advanced features and performance.\n",
        "- Compact cars and sedans typically have lower minimum costs.\n",
        "- SUVs and trucks can range widely, with some luxury SUVs being quite expensive.\n",
        "- Electric and hybrid cars might have higher upfront costs but lower operating costs.\n",
        "\n",
        "Ultimately, the \"costliest\" body type depends on your specific preferences and budget."
      ],
      "metadata": {
        "id": "uINwm_jvdqs3"
      }
    },
    {
      "cell_type": "markdown",
      "source": [
        "2) Do you think maximum/minimum values are a clear indication of which body-type is costliest, or does the interpretation improve by also taking the interquartile range into consideration?\n",
        "\n",
        "ANS:\n",
        "\n",
        "*Bringing in the interquartile range adds a helpful layer to the analysis. The interquartile range gives you an idea of how spread out the values are in the middle 50% of a set of data. In the context of body types, this could represent the variability in the \"cost\" or maintenance requirements for a more typical range of bodies.\n",
        "Considering the interquartile range (IQR) along with the maximum and minimum values can provide a more comprehensive understanding of the cost distribution within each body type. The IQR indicates where the middle 50% of the data falls and can help identify whether the prices are tightly clustered or widely dispersed.\n",
        "\n",
        "If a body type has a high maximum value but a relatively small IQR, it suggests that while there are very expensive models available, most vehicles within that body type are more affordable. Conversely, if a body type has a wide IQR with a significant spread between the lower and upper quartiles, it implies greater variability in prices within that category.\n",
        "\n",
        "So, to determine which body type is the \"costliest,\" considering both the maximum/minimum values and the IQR would provide a more nuanced and accurate assessment of the overall cost distribution within each category."
      ],
      "metadata": {
        "id": "vs67tsWcdt9y"
      }
    },
    {
      "cell_type": "markdown",
      "source": [
        "3) Do you think the body-style of a car can be a good predictor for its price?\n",
        "\n",
        "ANS:\n",
        "\n",
        "* the body style of a car is often a strong predictor of its price. Different body styles cater to different preferences, needs, and lifestyles, and these factors can significantly influence the market demand and, consequently, the price.\n",
        "The body style of a car can be a useful predictor of its price to some extent, but it's not the only factor to consider. Other factors like brand, model, year, features, engine type, and market demand also play significant roles in determining a car's price.\n",
        "\n",
        "Certain body styles tend to have price trends associated with them:\n",
        "\n",
        "1. Sports cars and luxury vehicles often have higher price tags due to their premium features and performance capabilities.\n",
        "\n",
        "2. Compact cars and economy models generally have lower starting prices, making them more affordable options.\n",
        "\n",
        "3. SUVs and trucks can vary widely in price depending on their size, brand, and features, with luxury SUVs often being more expensive.\n",
        "\n",
        "4. Electric and hybrid cars often have higher upfront costs but can be more cost-effective in the long run due to lower operating expenses.\n",
        "\n",
        "While body style can give you a rough idea of what to expect, it's essential to consider all the factors mentioned above when predicting a car's price accurately. Additionally, factors like mileage, condition, and regional market conditions can further influence a car's price."
      ],
      "metadata": {
        "id": "OegSUjkTdyDa"
      }
    }
  ]
}